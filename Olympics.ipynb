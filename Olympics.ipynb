{
  "nbformat": 4,
  "nbformat_minor": 0,
  "metadata": {
    "colab": {
      "name": "Olympics.ipynb",
      "provenance": [],
      "collapsed_sections": []
    },
    "kernelspec": {
      "name": "python3",
      "display_name": "Python 3"
    },
    "language_info": {
      "name": "python"
    }
  },
  "cells": [
    {
      "cell_type": "code",
      "metadata": {
        "id": "9_vKAzakU56F"
      },
      "source": [
        "#Importing Require Libraries\n",
        "import pandas as pd\n",
        "import numpy as np\n",
        "import matplotlib.pyplot as plt\n"
      ],
      "execution_count": 70,
      "outputs": []
    },
    {
      "cell_type": "markdown",
      "metadata": {
        "id": "L_jR0FL7In2R"
      },
      "source": [
        "Preprocessing of Dataset"
      ]
    },
    {
      "cell_type": "code",
      "metadata": {
        "colab": {
          "base_uri": "https://localhost:8080/"
        },
        "id": "hv9iX9ktVwID",
        "outputId": "ccdb193d-20dd-4313-e060-442926e1aac3"
      },
      "source": [
        "df = pd.read_csv('./summer.csv')\n",
        "#deleting redundant Column\n",
        "del df['Discipline']\n",
        "#Refactoring Athlete names in format \"Firstname Lastname\"\n",
        "for i in range(len(df)):\n",
        "  try:\n",
        "    df['Athlete'][i] = df['Athlete'][i].split(\",\")[1]+\" \" +df['Athlete'][i].split(\",\")[0].lower()\n",
        "  except:\n",
        "    pass\n",
        "\n"
      ],
      "execution_count": 71,
      "outputs": [
        {
          "output_type": "stream",
          "name": "stderr",
          "text": [
            "/usr/local/lib/python3.7/dist-packages/ipykernel_launcher.py:7: SettingWithCopyWarning: \n",
            "A value is trying to be set on a copy of a slice from a DataFrame\n",
            "\n",
            "See the caveats in the documentation: https://pandas.pydata.org/pandas-docs/stable/user_guide/indexing.html#returning-a-view-versus-a-copy\n",
            "  import sys\n"
          ]
        }
      ]
    },
    {
      "cell_type": "markdown",
      "metadata": {
        "id": "Jw_yPvGEUpqx"
      },
      "source": [
        "# Summer Olympics Data Analysis Assignment\n",
        "\n",
        "### 1. In how many cities Summer Olympics is held so far?"
      ]
    },
    {
      "cell_type": "code",
      "metadata": {
        "colab": {
          "base_uri": "https://localhost:8080/"
        },
        "id": "iRSUyckaUmi7",
        "outputId": "90195afa-0164-42ea-d428-3253bdfa941e"
      },
      "source": [
        "print(\"The Total Number of Cities where Olympics are Organized are: \",len(df['City'].unique()))"
      ],
      "execution_count": 72,
      "outputs": [
        {
          "output_type": "stream",
          "name": "stdout",
          "text": [
            "The Total Number of Cities where Olympics are Organized are:  22\n"
          ]
        }
      ]
    },
    {
      "cell_type": "markdown",
      "metadata": {
        "id": "ri-VbZM6XwFT"
      },
      "source": [
        "### 2. Which sport is having most number of Gold Medals so far? (Top 5)"
      ]
    },
    {
      "cell_type": "code",
      "metadata": {
        "colab": {
          "base_uri": "https://localhost:8080/",
          "height": 590
        },
        "id": "pRuGj5ZHVoeF",
        "outputId": "4b72137d-2d8d-45ac-e8c6-58c6c6cb44e8"
      },
      "source": [
        "df_gold=df[df['Medal']=='Gold']\n",
        "print(\"The Sports which are having most number of Gold Medals are : \\n Sport \\t \\t No. of Gold Medals \\n\")\n",
        "\n",
        "df2 =pd.DataFrame([[sorted(df_gold['Sport'].unique())[sport],len(pd.DataFrame(df_gold.groupby('Sport'))[1][sport])] for sport in range(len(df_gold['Sport'].unique()))],columns=['Sport','Medals']).sort_values(by='Medals',ascending=False).head()\n",
        "\n",
        "for sport,medals in df2.values:\n",
        "  print(sport,\" \\t : \",medals)\n",
        "\n",
        "df2.plot(x='Sport',y='Medals',kind='bar',figsize=(6,6),color='gold',xlabel='Sports',ylabel='No. of Gold Medals')\n",
        "  "
      ],
      "execution_count": 73,
      "outputs": [
        {
          "output_type": "stream",
          "name": "stdout",
          "text": [
            "The Sports which are having most number of Gold Medals are : \n",
            " Sport \t \t No. of Gold Medals \n",
            "\n",
            "Aquatics  \t :  1421\n",
            "Athletics  \t :  1215\n",
            "Rowing  \t :  890\n",
            "Gymnastics  \t :  820\n",
            "Fencing  \t :  552\n"
          ]
        },
        {
          "output_type": "execute_result",
          "data": {
            "text/plain": [
              "<matplotlib.axes._subplots.AxesSubplot at 0x7f11613e7750>"
            ]
          },
          "metadata": {},
          "execution_count": 73
        },
        {
          "output_type": "display_data",
          "data": {
            "image/png": "[encoded data removed]",
            "text/plain": [
              "<Figure size 432x432 with 1 Axes>"
            ]
          },
          "metadata": {
            "needs_background": "light"
          }
        }
      ]
    },
    {
      "cell_type": "markdown",
      "metadata": {
        "id": "HtnSO5U5r0Fz"
      },
      "source": [
        "### 3. Which sport is having most number of medals so far? (Top 5)"
      ]
    },
    {
      "cell_type": "code",
      "metadata": {
        "colab": {
          "base_uri": "https://localhost:8080/",
          "height": 590
        },
        "id": "wOMrLyIMbwwo",
        "outputId": "72639bd7-da1f-4514-b312-143f3ad6031d"
      },
      "source": [
        "print('The Sports which are having most number of Medals so far are : \\n Sport \\t \\t No. of Medals \\n')\n",
        "df3 = pd.DataFrame([[sorted(df['Sport'].unique())[medal],len(pd.DataFrame(df.groupby('Sport'))[1][medal])]  for medal in range(len(df['Sport'].unique()))],columns=['Sport','Medals']).sort_values(by='Medals',ascending=False).head()\n",
        "\n",
        "for sport,medals in df3.values:\n",
        "  print(sport,\" \\t : \",medals)\n",
        "\n",
        "df3.plot(x='Sport',y='Medals',kind='bar',figsize=(6,6),xlabel='Sports',ylabel=\"No. of Medals\",color='cyan')"
      ],
      "execution_count": 74,
      "outputs": [
        {
          "output_type": "stream",
          "name": "stdout",
          "text": [
            "The Sports which are having most number of Medals so far are : \n",
            " Sport \t \t No. of Medals \n",
            "\n",
            "Aquatics  \t :  4170\n",
            "Athletics  \t :  3638\n",
            "Rowing  \t :  2667\n",
            "Gymnastics  \t :  2307\n",
            "Fencing  \t :  1613\n"
          ]
        },
        {
          "output_type": "execute_result",
          "data": {
            "text/plain": [
              "<matplotlib.axes._subplots.AxesSubplot at 0x7f11613e7e10>"
            ]
          },
          "metadata": {},
          "execution_count": 74
        },
        {
          "output_type": "display_data",
          "data": {
            "image/png": "[encoded data removed]",
            "text/plain": [
              "<Figure size 432x432 with 1 Axes>"
            ]
          },
          "metadata": {
            "needs_background": "light"
          }
        }
      ]
    },
    {
      "cell_type": "markdown",
      "metadata": {
        "id": "19GWefEZzcNL"
      },
      "source": [
        "### 4. Which player has won most number of medals? (Top 5)"
      ]
    },
    {
      "cell_type": "code",
      "metadata": {
        "colab": {
          "base_uri": "https://localhost:8080/",
          "height": 456
        },
        "id": "hyoYLmfWbznB",
        "outputId": "c3fae5c7-9b34-42f5-a04f-28b5d75ba36e"
      },
      "source": [
        "print(\"The following are the Top 5 who won most number of Medals : \\n Name \\t \\t No. of Medals\")\n",
        "\n",
        "player_lst = df['Athlete'].unique()\n",
        "player_data = []\n",
        "for player in player_lst:\n",
        "  player_data.append([player,len(df[df['Athlete']== player])])\n",
        "df4= pd.DataFrame(player_data,columns=[\"Player\",\"Medals\"]).sort_values(by=\"Medals\",ascending=False).head()\n",
        "for player,medals in df4.values:\n",
        "  print(f'{player:<20}',\"  \\t : \",medals)\n",
        "\n",
        "df4.plot(y=\"Medals\",x=\"Player\",xlabel=\"No. of Medals\",ylabel=\"Players\",kind=\"barh\",figsize=(10,5),color=\"orange\")\n",
        "\n"
      ],
      "execution_count": 75,
      "outputs": [
        {
          "output_type": "stream",
          "name": "stdout",
          "text": [
            "The following are the Top 5 who won most number of Medals : \n",
            " Name \t \t No. of Medals\n",
            " Michael phelps        \t :  22\n",
            " Larisa latynina       \t :  18\n",
            " Nikolay andrianov     \t :  15\n",
            " Takashi ono           \t :  13\n",
            " Edoardo mangiarotti   \t :  13\n"
          ]
        },
        {
          "output_type": "execute_result",
          "data": {
            "text/plain": [
              "<matplotlib.axes._subplots.AxesSubplot at 0x7f116107d990>"
            ]
          },
          "metadata": {},
          "execution_count": 75
        },
        {
          "output_type": "display_data",
          "data": {
            "image/png": "[encoded data removed]",
            "text/plain": [
              "<Figure size 720x360 with 1 Axes>"
            ]
          },
          "metadata": {
            "needs_background": "light"
          }
        }
      ]
    },
    {
      "cell_type": "markdown",
      "metadata": {
        "id": "PDalBOztxkAM"
      },
      "source": [
        "### 5. Which player has won most number Gold Medals of medals? (Top 5)"
      ]
    },
    {
      "cell_type": "code",
      "metadata": {
        "colab": {
          "base_uri": "https://localhost:8080/",
          "height": 456
        },
        "id": "ZQfV9iuh2Dpq",
        "outputId": "c4b9f619-ce4d-421b-af3e-172a726a59c0"
      },
      "source": [
        "df_gold=df[df['Medal']=='Gold']\n",
        "print(\"The following are the Top 5 who won most number of Gold Medals : \\n Name \\t \\t No. of Medals\")\n",
        "\n",
        "player_lst = df_gold['Athlete'].unique()\n",
        "player_data = []\n",
        "for player in player_lst:\n",
        "  player_data.append([player,len(df_gold[df_gold['Athlete']== player])])\n",
        "df5= pd.DataFrame(player_data,columns=[\"Player\",\"Medals\"]).sort_values(by=\"Medals\",ascending=False).head()\n",
        "for player,medals in df5.values:\n",
        "  print(f'{player:<20}',\"\\t : \",medals)\n",
        "\n",
        "df5.plot(y=\"Medals\",x=\"Player\",ylabel=\"No. of gold Medals\",xlabel=\"Players\",kind=\"barh\",figsize=(10,5),color=\"gold\")\n",
        "\n",
        "\n"
      ],
      "execution_count": 76,
      "outputs": [
        {
          "output_type": "stream",
          "name": "stdout",
          "text": [
            "The following are the Top 5 who won most number of Gold Medals : \n",
            " Name \t \t No. of Medals\n",
            " Michael phelps      \t :  18\n",
            " Mark spitz          \t :  9\n",
            " Larisa latynina     \t :  9\n",
            " Carl lewis          \t :  9\n",
            " Paavo nurmi         \t :  9\n"
          ]
        },
        {
          "output_type": "execute_result",
          "data": {
            "text/plain": [
              "<matplotlib.axes._subplots.AxesSubplot at 0x7f1160c1fb50>"
            ]
          },
          "metadata": {},
          "execution_count": 76
        },
        {
          "output_type": "display_data",
          "data": {
            "image/png": "[encoded data removed]",
            "text/plain": [
              "<Figure size 720x360 with 1 Axes>"
            ]
          },
          "metadata": {
            "needs_background": "light"
          }
        }
      ]
    },
    {
      "cell_type": "markdown",
      "metadata": {
        "id": "PoK5Mp9V6ZRc"
      },
      "source": [
        "### 6. In which year India won first Gold Medal in Summer Olympics?"
      ]
    },
    {
      "cell_type": "code",
      "metadata": {
        "colab": {
          "base_uri": "https://localhost:8080/"
        },
        "id": "KcuGA4K3FKyG",
        "outputId": "ba1dcee5-2a92-451d-a4d3-7e6f6b6b2a38"
      },
      "source": [
        "df6 = df[df[\"Country\"]==\"IND\"]\n",
        "first_gold = df6[df6[\"Medal\"]==\"Gold\"][\"Year\"].min()\n",
        "print(\"India won First Summer Olympics Gold Medal in the Year : \",first_gold)\n"
      ],
      "execution_count": 77,
      "outputs": [
        {
          "output_type": "stream",
          "name": "stdout",
          "text": [
            "India won First Summer Olympics Gold Medal in the Year :  1928\n"
          ]
        }
      ]
    },
    {
      "cell_type": "markdown",
      "metadata": {
        "id": "GUX2OjIo7zEs"
      },
      "source": [
        "### 7. Which event is most popular in terms on number of players? (Top 5)"
      ]
    },
    {
      "cell_type": "code",
      "metadata": {
        "colab": {
          "base_uri": "https://localhost:8080/",
          "height": 604
        },
        "id": "GwygS1ge7zy2",
        "outputId": "c90e9a1a-6879-406f-89ff-221059214d19"
      },
      "source": [
        "print(\"The Top 5 most popular events in terms on number of Players are : \\n Event Name \\t Popularity ( No. of Players )\")\n",
        "df7 = pd.DataFrame([ [sorted(df['Event'].unique())[event],len(pd.DataFrame(df.groupby('Event'))[1][event])] for event in range(len(df['Event'].unique()))],columns=[\"Event\",\"Players\"]).sort_values(by='Players',ascending=False).head()\n",
        "for event,player in df7.values:\n",
        "  print(f'{event:<20}',\"  \\t : \",player)\n",
        "df7.plot(x=\"Event\",y=\"Players\",kind=\"bar\",xlabel=\"Events\",ylabel=\"Popularity\",figsize=(6,6),color=\"green\")\n"
      ],
      "execution_count": 78,
      "outputs": [
        {
          "output_type": "stream",
          "name": "stdout",
          "text": [
            "The Top 5 most popular events in terms on number of Players are : \n",
            " Event Name \t Popularity ( No. of Players )\n",
            "Football               \t :  1497\n",
            "Hockey                 \t :  1422\n",
            "Team Competition       \t :  1147\n",
            "Basketball             \t :  1012\n",
            "Handball               \t :  973\n"
          ]
        },
        {
          "output_type": "execute_result",
          "data": {
            "text/plain": [
              "<matplotlib.axes._subplots.AxesSubplot at 0x7f1160ba8650>"
            ]
          },
          "metadata": {},
          "execution_count": 78
        },
        {
          "output_type": "display_data",
          "data": {
            "image/png": "[encoded data removed]",
            "text/plain": [
              "<Figure size 432x432 with 1 Axes>"
            ]
          },
          "metadata": {
            "needs_background": "light"
          }
        }
      ]
    },
    {
      "cell_type": "markdown",
      "metadata": {
        "id": "L-ht9HEDE2VV"
      },
      "source": [
        "### 8. Which sport is having most female Gold Medalists? (Top 5)"
      ]
    },
    {
      "cell_type": "code",
      "metadata": {
        "colab": {
          "base_uri": "https://localhost:8080/",
          "height": 518
        },
        "id": "IMfUl3aDE25U",
        "outputId": "f5e3de86-7b68-4740-9508-dad770e81a23"
      },
      "source": [
        "df_women = df[df[\"Gender\"]==\"Women\"]\n",
        "df_gold=df_women[df_women['Medal']=='Gold']\n",
        "\n",
        "print(\"The following are the Top 5 Sports which have most number of Female Gold Medalists : \\n Sport \\t \\t No. of Female Gold Medalist\")\n",
        "sport_lst = df_gold['Sport'].unique()\n",
        "sport_data = []\n",
        "for sport in sport_lst:\n",
        "  sport_data.append([sport,len(df_gold[df_gold['Sport']== sport])])\n",
        "df8= pd.DataFrame(sport_data,columns=[\"Sport\",\"Medals\"]).sort_values(by=\"Medals\",ascending=False).head()\n",
        "for sport,medals in df8.values:\n",
        "  print(f'{sport:<20}',\"\\t : \",medals)\n",
        "\n",
        "df8.plot(y=\"Medals\",x=\"Sport\",ylabel=\"No. of Female gold Medalist\",xlabel=\"Sports\",kind=\"bar\",figsize=(10,5),color=\"gold\")\n",
        "\n"
      ],
      "execution_count": 79,
      "outputs": [
        {
          "output_type": "stream",
          "name": "stdout",
          "text": [
            "The following are the Top 5 Sports which have most number of Female Gold Medalists : \n",
            " Sport \t \t No. of Female Gold Medalist\n",
            "Aquatics             \t :  589\n",
            "Athletics            \t :  389\n",
            "Gymnastics           \t :  268\n",
            "Rowing               \t :  217\n",
            "Volleyball           \t :  166\n"
          ]
        },
        {
          "output_type": "execute_result",
          "data": {
            "text/plain": [
              "<matplotlib.axes._subplots.AxesSubplot at 0x7f1160b3bf90>"
            ]
          },
          "metadata": {},
          "execution_count": 79
        },
        {
          "output_type": "display_data",
          "data": {
            "image/png": "[encoded data removed]",
            "text/plain": [
              "<Figure size 720x360 with 1 Axes>"
            ]
          },
          "metadata": {
            "needs_background": "light"
          }
        }
      ]
    },
    {
      "cell_type": "code",
      "metadata": {
        "id": "2qqNY0Z_FTHU"
      },
      "source": [
        ""
      ],
      "execution_count": 79,
      "outputs": []
    }
  ]
}